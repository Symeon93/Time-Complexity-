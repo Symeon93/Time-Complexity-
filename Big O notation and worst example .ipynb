{
 "cells": [
  {
   "cell_type": "markdown",
   "metadata": {},
   "source": [
    "# Big O notation "
   ]
  },
  {
   "cell_type": "markdown",
   "metadata": {},
   "source": [
    "Running time of a program can depend on the structure of the alogorithm we are writing especially for a large input of data. That said, by definition some alogorithms are faster that on others, but what makes a alhoright - and therefore part of our program slow? We will arrive to the answer by using simple examples, measure the runtime of each and accompany out results with the scaling of lines outputed by the program in terms of the input. "
   ]
  },
  {
   "cell_type": "code",
   "execution_count": 27,
   "metadata": {},
   "outputs": [],
   "source": [
    "import time \n",
    "from random import random\n",
    "from random import randint"
   ]
  },
  {
   "cell_type": "code",
   "execution_count": 28,
   "metadata": {},
   "outputs": [
    {
     "name": "stdout",
     "output_type": "stream",
     "text": [
      "items: 0, 0\n",
      "items: 0, 1\n",
      "items: 0, 2\n",
      "items: 0, 3\n",
      "items: 0, 4\n",
      "items: 0, 5\n",
      "items: 0, 6\n",
      "items: 0, 7\n",
      "items: 0, 8\n",
      "items: 0, 9\n",
      "items: 0, 10\n",
      "items: 1, 0\n",
      "items: 1, 1\n",
      "items: 1, 2\n",
      "items: 1, 3\n",
      "items: 1, 4\n",
      "items: 1, 5\n",
      "items: 1, 6\n",
      "items: 1, 7\n",
      "items: 1, 8\n",
      "items: 1, 9\n",
      "items: 1, 10\n",
      "items: 2, 0\n",
      "items: 2, 1\n",
      "items: 2, 2\n",
      "items: 2, 3\n",
      "items: 2, 4\n",
      "items: 2, 5\n",
      "items: 2, 6\n",
      "items: 2, 7\n",
      "items: 2, 8\n",
      "items: 2, 9\n",
      "items: 2, 10\n",
      "items: 3, 0\n",
      "items: 3, 1\n",
      "items: 3, 2\n",
      "items: 3, 3\n",
      "items: 3, 4\n",
      "items: 3, 5\n",
      "items: 3, 6\n",
      "items: 3, 7\n",
      "items: 3, 8\n",
      "items: 3, 9\n",
      "items: 3, 10\n",
      "items: 4, 0\n",
      "items: 4, 1\n",
      "items: 4, 2\n",
      "items: 4, 3\n",
      "items: 4, 4\n",
      "items: 4, 5\n",
      "items: 4, 6\n",
      "items: 4, 7\n",
      "items: 4, 8\n",
      "items: 4, 9\n",
      "items: 4, 10\n",
      "items: 5, 0\n",
      "items: 5, 1\n",
      "items: 5, 2\n",
      "items: 5, 3\n",
      "items: 5, 4\n",
      "items: 5, 5\n",
      "items: 5, 6\n",
      "items: 5, 7\n",
      "items: 5, 8\n",
      "items: 5, 9\n",
      "items: 5, 10\n",
      "items: 6, 0\n",
      "items: 6, 1\n",
      "items: 6, 2\n",
      "items: 6, 3\n",
      "items: 6, 4\n",
      "items: 6, 5\n",
      "items: 6, 6\n",
      "items: 6, 7\n",
      "items: 6, 8\n",
      "items: 6, 9\n",
      "items: 6, 10\n",
      "items: 7, 0\n",
      "items: 7, 1\n",
      "items: 7, 2\n",
      "items: 7, 3\n",
      "items: 7, 4\n",
      "items: 7, 5\n",
      "items: 7, 6\n",
      "items: 7, 7\n",
      "items: 7, 8\n",
      "items: 7, 9\n",
      "items: 7, 10\n",
      "items: 8, 0\n",
      "items: 8, 1\n",
      "items: 8, 2\n",
      "items: 8, 3\n",
      "items: 8, 4\n",
      "items: 8, 5\n",
      "items: 8, 6\n",
      "items: 8, 7\n",
      "items: 8, 8\n",
      "items: 8, 9\n",
      "items: 8, 10\n",
      "items: 9, 0\n",
      "items: 9, 1\n",
      "items: 9, 2\n",
      "items: 9, 3\n",
      "items: 9, 4\n",
      "items: 9, 5\n",
      "items: 9, 6\n",
      "items: 9, 7\n",
      "items: 9, 8\n",
      "items: 9, 9\n",
      "items: 9, 10\n",
      "items: 10, 0\n",
      "items: 10, 1\n",
      "items: 10, 2\n",
      "items: 10, 3\n",
      "items: 10, 4\n",
      "items: 10, 5\n",
      "items: 10, 6\n",
      "items: 10, 7\n",
      "items: 10, 8\n",
      "items: 10, 9\n",
      "items: 10, 10\n",
      "----0.009975433349609375 seconds----\n"
     ]
    }
   ],
   "source": [
    "#(On^2)\n",
    "\n",
    "start_time = time.time()\n",
    "def Quad_Example(my_list):\n",
    "    for firs_loop in my_list:\n",
    "        for second_loop in my_list:\n",
    "            print(\"items: {}, {}\".format(firs_loop,second_loop))\n",
    "            \n",
    "list_example = [i for i in range(11)]\n",
    "\n",
    "Quad_Example(list_example)\n",
    "\n",
    "print(\"----%s seconds----\" % (time.time() -start_time))\n",
    "\n",
    "\n"
   ]
  },
  {
   "cell_type": "code",
   "execution_count": 34,
   "metadata": {
    "code_folding": []
   },
   "outputs": [
    {
     "name": "stdout",
     "output_type": "stream",
     "text": [
      "[5, 8, 17, 21, 5, 8, 44, 67, 90, 71, 99]\n",
      "----0.0011105537414550781 seconds----\n"
     ]
    }
   ],
   "source": [
    "#O(nlogn)\n",
    "\n",
    "start_time = time.time()\n",
    "def Log_Linear(my_list):\n",
    "    if len(my_list)<2:\n",
    "        return my_list\n",
    "    else:\n",
    "        \n",
    "        mid = len(my_list)//2\n",
    "        left = my_list[:mid]\n",
    "        right = my_list[mid:]\n",
    "        \n",
    "        Log_Linear(left)\n",
    "        Log_Linear(right)\n",
    "        \n",
    "        i=0\n",
    "        j=0\n",
    "        k=0\n",
    "        \n",
    "        while i<len(left) and j <len(right):\n",
    "            if left[i]<right[j]:\n",
    "                my_list[k] = left[i] \n",
    "                i+=1\n",
    "            else:\n",
    "                my_list[k] = right[j]\n",
    "                j+=1\n",
    "            k+=1\n",
    "                    \n",
    "        \n",
    "        while i<len(left):\n",
    "            my_list[k] = left[i]\n",
    "            i+=1\n",
    "            k+=1\n",
    "        \n",
    "        while j<len(right):\n",
    "            my_list[k]\n",
    "            j+=1\n",
    "            k+=1\n",
    "            \n",
    "        return my_list\n",
    "    \n",
    "\n",
    "example_list = [randint(0,100) for i in range(11)]\n",
    "\n",
    "print(Log_Linear(example_list))\n",
    "print(\"----%s seconds----\" % (time.time() -start_time))\n"
   ]
  },
  {
   "cell_type": "code",
   "execution_count": 35,
   "metadata": {},
   "outputs": [
    {
     "name": "stdout",
     "output_type": "stream",
     "text": [
      "55\n",
      "----0.001020669937133789 seconds----\n"
     ]
    }
   ],
   "source": [
    "#O(Logn)\n",
    "\n",
    "start_time = time.time()\n",
    "def Logarithm(number):\n",
    "    if number == 0:\n",
    "        return 0\n",
    "    elif number ==1:\n",
    "        return 1\n",
    "    else:\n",
    "        return Logarithm(number -1) + Logarithm(number -2)\n",
    "    \n",
    "\n",
    "print(Logarithm(10))\n",
    "\n",
    "print(\"----%s seconds----\" % (time.time() -start_time))"
   ]
  },
  {
   "cell_type": "code",
   "execution_count": 36,
   "metadata": {},
   "outputs": [
    {
     "name": "stdout",
     "output_type": "stream",
     "text": [
      "10\n",
      "----0.0009505748748779297 seconds----\n"
     ]
    }
   ],
   "source": [
    "#O(1) Constant \n",
    "\n",
    "start_time = time.time()\n",
    "def Conts_example(my_list):\n",
    "    return my_list.pop()\n",
    "\n",
    "ex_list = [i for i in range(11)]\n",
    "\n",
    "print(Conts_example(ex_list))\n",
    "\n",
    "print(\"----%s seconds----\" % (time.time() -start_time))\n",
    "\n"
   ]
  },
  {
   "cell_type": "markdown",
   "metadata": {},
   "source": [
    "<b> Note that big O notation inludes the relationship between the input and the structure of the code. \n",
    "    e.g. in a case of a for loop within a function (classic          linear example), in case the input is not related            with the variable of the for loop, then this would \n",
    "         <i>a constant </i>example.\n",
    "</b>"
   ]
  },
  {
   "cell_type": "code",
   "execution_count": null,
   "metadata": {},
   "outputs": [],
   "source": []
  }
 ],
 "metadata": {
  "kernelspec": {
   "display_name": "Python 3",
   "language": "python",
   "name": "python3"
  },
  "toc": {
   "base_numbering": 1,
   "nav_menu": {},
   "number_sections": true,
   "sideBar": true,
   "skip_h1_title": false,
   "title_cell": "Table of Contents",
   "title_sidebar": "Contents",
   "toc_cell": false,
   "toc_position": {},
   "toc_section_display": true,
   "toc_window_display": false
  }
 },
 "nbformat": 4,
 "nbformat_minor": 4
}
